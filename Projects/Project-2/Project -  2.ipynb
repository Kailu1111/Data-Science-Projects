{
 "cells": [
  {
   "cell_type": "code",
   "execution_count": 1,
   "id": "4da783e7-1fc0-427d-a645-d3fddf694177",
   "metadata": {},
   "outputs": [],
   "source": [
    "import pandas as pd\n",
    "import seaborn as sns\n",
    "import matplotlib.pyplot as plt"
   ]
  },
  {
   "cell_type": "code",
   "execution_count": 2,
   "id": "e55c28e6-2377-41f7-8a7a-45476fa52a3d",
   "metadata": {},
   "outputs": [
    {
     "data": {
      "text/html": [
       "<div>\n",
       "<style scoped>\n",
       "    .dataframe tbody tr th:only-of-type {\n",
       "        vertical-align: middle;\n",
       "    }\n",
       "\n",
       "    .dataframe tbody tr th {\n",
       "        vertical-align: top;\n",
       "    }\n",
       "\n",
       "    .dataframe thead th {\n",
       "        text-align: right;\n",
       "    }\n",
       "</style>\n",
       "<table border=\"1\" class=\"dataframe\">\n",
       "  <thead>\n",
       "    <tr style=\"text-align: right;\">\n",
       "      <th></th>\n",
       "      <th>Unnamed: 0</th>\n",
       "      <th>TV</th>\n",
       "      <th>radio</th>\n",
       "      <th>newspaper</th>\n",
       "      <th>sales</th>\n",
       "    </tr>\n",
       "  </thead>\n",
       "  <tbody>\n",
       "    <tr>\n",
       "      <th>0</th>\n",
       "      <td>1</td>\n",
       "      <td>230.1</td>\n",
       "      <td>37.8</td>\n",
       "      <td>69.2</td>\n",
       "      <td>22.1</td>\n",
       "    </tr>\n",
       "    <tr>\n",
       "      <th>1</th>\n",
       "      <td>2</td>\n",
       "      <td>44.5</td>\n",
       "      <td>39.3</td>\n",
       "      <td>45.1</td>\n",
       "      <td>10.4</td>\n",
       "    </tr>\n",
       "    <tr>\n",
       "      <th>2</th>\n",
       "      <td>3</td>\n",
       "      <td>17.2</td>\n",
       "      <td>45.9</td>\n",
       "      <td>69.3</td>\n",
       "      <td>9.3</td>\n",
       "    </tr>\n",
       "    <tr>\n",
       "      <th>3</th>\n",
       "      <td>4</td>\n",
       "      <td>151.5</td>\n",
       "      <td>41.3</td>\n",
       "      <td>58.5</td>\n",
       "      <td>18.5</td>\n",
       "    </tr>\n",
       "    <tr>\n",
       "      <th>4</th>\n",
       "      <td>5</td>\n",
       "      <td>180.8</td>\n",
       "      <td>10.8</td>\n",
       "      <td>58.4</td>\n",
       "      <td>12.9</td>\n",
       "    </tr>\n",
       "  </tbody>\n",
       "</table>\n",
       "</div>"
      ],
      "text/plain": [
       "   Unnamed: 0     TV  radio  newspaper  sales\n",
       "0           1  230.1   37.8       69.2   22.1\n",
       "1           2   44.5   39.3       45.1   10.4\n",
       "2           3   17.2   45.9       69.3    9.3\n",
       "3           4  151.5   41.3       58.5   18.5\n",
       "4           5  180.8   10.8       58.4   12.9"
      ]
     },
     "execution_count": 2,
     "metadata": {},
     "output_type": "execute_result"
    }
   ],
   "source": [
    "df = pd.read_csv(r'C:\\Users\\sman0\\OneDrive\\Desktop\\Data Science Projects\\Project-2\\ads.csv')\n",
    "df.head()"
   ]
  },
  {
   "cell_type": "markdown",
   "id": "d9fb850c-97f4-47f0-89f1-b6a59e6df1a1",
   "metadata": {},
   "source": [
    "# Check for missing datas and handling if missing values"
   ]
  },
  {
   "cell_type": "code",
   "execution_count": 3,
   "id": "a47794c0-ac2c-4ccb-941b-51881f2c36ed",
   "metadata": {},
   "outputs": [
    {
     "data": {
      "text/plain": [
       "Unnamed: 0    0\n",
       "TV            0\n",
       "radio         0\n",
       "newspaper     0\n",
       "sales         0\n",
       "dtype: int64"
      ]
     },
     "execution_count": 3,
     "metadata": {},
     "output_type": "execute_result"
    }
   ],
   "source": [
    "df.isna().sum() # No Missing data in this dataset."
   ]
  },
  {
   "cell_type": "code",
   "execution_count": 4,
   "id": "6d0e4a12-cad8-4438-a5b4-876eec348d75",
   "metadata": {},
   "outputs": [
    {
     "data": {
      "text/html": [
       "<div>\n",
       "<style scoped>\n",
       "    .dataframe tbody tr th:only-of-type {\n",
       "        vertical-align: middle;\n",
       "    }\n",
       "\n",
       "    .dataframe tbody tr th {\n",
       "        vertical-align: top;\n",
       "    }\n",
       "\n",
       "    .dataframe thead th {\n",
       "        text-align: right;\n",
       "    }\n",
       "</style>\n",
       "<table border=\"1\" class=\"dataframe\">\n",
       "  <thead>\n",
       "    <tr style=\"text-align: right;\">\n",
       "      <th></th>\n",
       "      <th>Unnamed: 0</th>\n",
       "      <th>TV</th>\n",
       "      <th>radio</th>\n",
       "      <th>newspaper</th>\n",
       "      <th>sales</th>\n",
       "    </tr>\n",
       "  </thead>\n",
       "  <tbody>\n",
       "    <tr>\n",
       "      <th>count</th>\n",
       "      <td>200.000000</td>\n",
       "      <td>200.000000</td>\n",
       "      <td>200.000000</td>\n",
       "      <td>200.000000</td>\n",
       "      <td>200.000000</td>\n",
       "    </tr>\n",
       "    <tr>\n",
       "      <th>mean</th>\n",
       "      <td>100.500000</td>\n",
       "      <td>147.042500</td>\n",
       "      <td>23.264000</td>\n",
       "      <td>30.554000</td>\n",
       "      <td>14.022500</td>\n",
       "    </tr>\n",
       "    <tr>\n",
       "      <th>std</th>\n",
       "      <td>57.879185</td>\n",
       "      <td>85.854236</td>\n",
       "      <td>14.846809</td>\n",
       "      <td>21.778621</td>\n",
       "      <td>5.217457</td>\n",
       "    </tr>\n",
       "    <tr>\n",
       "      <th>min</th>\n",
       "      <td>1.000000</td>\n",
       "      <td>0.700000</td>\n",
       "      <td>0.000000</td>\n",
       "      <td>0.300000</td>\n",
       "      <td>1.600000</td>\n",
       "    </tr>\n",
       "    <tr>\n",
       "      <th>25%</th>\n",
       "      <td>50.750000</td>\n",
       "      <td>74.375000</td>\n",
       "      <td>9.975000</td>\n",
       "      <td>12.750000</td>\n",
       "      <td>10.375000</td>\n",
       "    </tr>\n",
       "    <tr>\n",
       "      <th>50%</th>\n",
       "      <td>100.500000</td>\n",
       "      <td>149.750000</td>\n",
       "      <td>22.900000</td>\n",
       "      <td>25.750000</td>\n",
       "      <td>12.900000</td>\n",
       "    </tr>\n",
       "    <tr>\n",
       "      <th>75%</th>\n",
       "      <td>150.250000</td>\n",
       "      <td>218.825000</td>\n",
       "      <td>36.525000</td>\n",
       "      <td>45.100000</td>\n",
       "      <td>17.400000</td>\n",
       "    </tr>\n",
       "    <tr>\n",
       "      <th>max</th>\n",
       "      <td>200.000000</td>\n",
       "      <td>296.400000</td>\n",
       "      <td>49.600000</td>\n",
       "      <td>114.000000</td>\n",
       "      <td>27.000000</td>\n",
       "    </tr>\n",
       "  </tbody>\n",
       "</table>\n",
       "</div>"
      ],
      "text/plain": [
       "       Unnamed: 0          TV       radio   newspaper       sales\n",
       "count  200.000000  200.000000  200.000000  200.000000  200.000000\n",
       "mean   100.500000  147.042500   23.264000   30.554000   14.022500\n",
       "std     57.879185   85.854236   14.846809   21.778621    5.217457\n",
       "min      1.000000    0.700000    0.000000    0.300000    1.600000\n",
       "25%     50.750000   74.375000    9.975000   12.750000   10.375000\n",
       "50%    100.500000  149.750000   22.900000   25.750000   12.900000\n",
       "75%    150.250000  218.825000   36.525000   45.100000   17.400000\n",
       "max    200.000000  296.400000   49.600000  114.000000   27.000000"
      ]
     },
     "execution_count": 4,
     "metadata": {},
     "output_type": "execute_result"
    }
   ],
   "source": [
    "df.describe()"
   ]
  },
  {
   "cell_type": "code",
   "execution_count": 5,
   "id": "981882c0-a51f-438f-b47b-928ac678b16b",
   "metadata": {},
   "outputs": [
    {
     "data": {
      "text/plain": [
       "<Axes: >"
      ]
     },
     "execution_count": 5,
     "metadata": {},
     "output_type": "execute_result"
    },
    {
     "data": {
      "image/png": "[encoded data removed]",
      "text/plain": [
       "<Figure size 640x480 with 2 Axes>"
      ]
     },
     "metadata": {},
     "output_type": "display_data"
    }
   ],
   "source": [
    "sns.heatmap(df.corr(numeric_only =True),annot=True)"
   ]
  },
  {
   "cell_type": "markdown",
   "id": "1910acf1-b6fb-4acf-8f76-92117522051b",
   "metadata": {},
   "source": [
    "### The above heatmap shows Sales is positively correlated with Tv and radio. \n",
    "* There is not relation between radio and TV aswell.\n",
    "* Therefore we can use TV and radio for Sales Predition.Hence, TV and radio is (feature/independent) and Sales is (target/dependent) variable"
   ]
  },
  {
   "cell_type": "code",
   "execution_count": 6,
   "id": "42d362c7-a551-4a8e-8f77-2c6262934b9e",
   "metadata": {},
   "outputs": [
    {
     "data": {
      "text/plain": [
       "<Axes: xlabel='TV', ylabel='sales'>"
      ]
     },
     "execution_count": 6,
     "metadata": {},
     "output_type": "execute_result"
    },
    {
     "data": {
      "image/png": "[encoded data removed]",
      "text/plain": [
       "<Figure size 640x480 with 1 Axes>"
      ]
     },
     "metadata": {},
     "output_type": "display_data"
    }
   ],
   "source": [
    "sns.scatterplot(x=df['TV'],y=df['sales'])"
   ]
  },
  {
   "cell_type": "code",
   "execution_count": 7,
   "id": "5b62ad69-641e-4316-92b3-1f6af03064f9",
   "metadata": {},
   "outputs": [
    {
     "data": {
      "text/plain": [
       "<Axes: xlabel='radio', ylabel='sales'>"
      ]
     },
     "execution_count": 7,
     "metadata": {},
     "output_type": "execute_result"
    },
    {
     "data": {
      "image/png": "[encoded data removed]",
      "text/plain": [
       "<Figure size 640x480 with 1 Axes>"
      ]
     },
     "metadata": {},
     "output_type": "display_data"
    }
   ],
   "source": [
    "sns.scatterplot(x=df['radio'],y=df['sales'])"
   ]
  },
  {
   "cell_type": "markdown",
   "id": "f11d2413-0a9f-4827-b69f-0b7554a240b8",
   "metadata": {},
   "source": [
    "* The above scatterplot shows TV is highly correlated with sales and radio is less. Such that if choosing single feature TV is appropriate choice."
   ]
  },
  {
   "cell_type": "markdown",
   "id": "cf1a3231-43af-4abe-a0dc-5f145742f061",
   "metadata": {},
   "source": [
    "# Using Single Feature i.e TV\n",
    "* # Creating pipeline\n",
    "* # We want to predict sales and its a continuous data so we use Linear Regression,SVR()."
   ]
  },
  {
   "cell_type": "code",
   "execution_count": 8,
   "id": "a747155d-0bb8-40a2-8946-82c78489b927",
   "metadata": {},
   "outputs": [],
   "source": [
    "#Selecting feature and Target\n",
    "X = df.loc[:,['TV']]\n",
    "y = df.sales"
   ]
  },
  {
   "cell_type": "code",
   "execution_count": 10,
   "id": "a5f40ef1-36a5-40ad-8848-e144014c8b09",
   "metadata": {},
   "outputs": [],
   "source": [
    "from sklearn.model_selection import train_test_split\n",
    "X_train,X_test,y_train,y_test = train_test_split(X,y,test_size = 0.2,random_state=40)"
   ]
  },
  {
   "cell_type": "code",
   "execution_count": 11,
   "id": "f96d5669-d291-4873-a138-e4ff944c76f8",
   "metadata": {},
   "outputs": [],
   "source": [
    "from sklearn.pipeline import Pipeline\n",
    "from sklearn.svm import SVR\n",
    "\n",
    "model = Pipeline([\n",
    "    ('svm',SVR())\n",
    "])\n",
    "model.fit(X_train,y_train)\n",
    "y_pred = model.predict(X_test)"
   ]
  },
  {
   "cell_type": "code",
   "execution_count": 12,
   "id": "99772cb5-b509-4067-8851-8df8f353d09f",
   "metadata": {},
   "outputs": [],
   "source": [
    "from sklearn.metrics import r2_score"
   ]
  },
  {
   "cell_type": "code",
   "execution_count": 13,
   "id": "cbf18c67-9cfb-49f5-9bc3-3c6a18dbcdb7",
   "metadata": {},
   "outputs": [
    {
     "data": {
      "text/plain": [
       "0.5849747237148275"
      ]
     },
     "execution_count": 13,
     "metadata": {},
     "output_type": "execute_result"
    }
   ],
   "source": [
    "r2_score(y_true=y_test, y_pred=y_pred)"
   ]
  },
  {
   "cell_type": "markdown",
   "id": "e9bd2cf4-5dc0-4722-8168-4d1570c66628",
   "metadata": {},
   "source": [
    "# Creating model file with pickle to make Sales prediction app with streamlit using TV as feature"
   ]
  },
  {
   "cell_type": "code",
   "execution_count": 14,
   "id": "cc64ff13-06a9-43dd-b629-5994db9a213a",
   "metadata": {},
   "outputs": [],
   "source": [
    "\n",
    "\n",
    "import pickle\n",
    "file = open(\"sales_pred.pickle\",\"wb\")\n",
    "pickle.dump(model,file)\n",
    "file.close()"
   ]
  },
  {
   "cell_type": "markdown",
   "id": "3b7cff9a-e4d6-4002-8e40-78bfc7de5b94",
   "metadata": {},
   "source": [
    "# Using Multiple Feature i.e TV and radio\n",
    "* # Creating pipeline"
   ]
  },
  {
   "cell_type": "code",
   "execution_count": 15,
   "id": "88732440-d22e-47b3-9730-d9dae6021e9d",
   "metadata": {},
   "outputs": [],
   "source": [
    "X = df.loc[:,['TV','radio']]\n",
    "y = df.sales"
   ]
  },
  {
   "cell_type": "code",
   "execution_count": 16,
   "id": "fb2d466a-c14e-4770-9671-8d28166007c6",
   "metadata": {},
   "outputs": [],
   "source": [
    "from sklearn.model_selection import train_test_split\n",
    "X_train,X_test,y_train,y_test = train_test_split(X,y,test_size = 0.2,random_state=40)"
   ]
  },
  {
   "cell_type": "code",
   "execution_count": 17,
   "id": "bc8a2bf1-32a7-46ed-893f-5a87b89f7f38",
   "metadata": {},
   "outputs": [],
   "source": [
    "from sklearn.pipeline import Pipeline\n",
    "from sklearn.svm import SVR\n",
    "from sklearn.linear_model import LinearRegression\n",
    "\n",
    "model = Pipeline([\n",
    "    ('regressor',SVR())\n",
    "])\n",
    "model.fit(X_train,y_train)\n",
    "y_pred = model.predict(X_test)"
   ]
  },
  {
   "cell_type": "code",
   "execution_count": 18,
   "id": "2f2b41ca-8487-40a2-b7a2-0183a1f3c2c1",
   "metadata": {},
   "outputs": [
    {
     "data": {
      "text/plain": [
       "0.8424131273997038"
      ]
     },
     "execution_count": 18,
     "metadata": {},
     "output_type": "execute_result"
    }
   ],
   "source": [
    "from sklearn.metrics import r2_score\n",
    "r2_score(y_true=y_test, y_pred=y_pred)"
   ]
  },
  {
   "cell_type": "markdown",
   "id": "76799f08-dca9-4870-8160-41bf121f6611",
   "metadata": {},
   "source": [
    "# Using Multiple Feature i.e TV,radio and Newspaper\n",
    "* # Creating pipeline"
   ]
  },
  {
   "cell_type": "code",
   "execution_count": 19,
   "id": "79c5d150-1a37-4195-a4ba-aa0367cc4dd5",
   "metadata": {},
   "outputs": [],
   "source": [
    "X = df.loc[:,['TV','radio','newspaper']]\n",
    "y = df.sales"
   ]
  },
  {
   "cell_type": "code",
   "execution_count": 20,
   "id": "54d62824-0b22-4d4b-940d-586f6e593f11",
   "metadata": {},
   "outputs": [],
   "source": [
    "from sklearn.model_selection import train_test_split\n",
    "X_train,X_test,y_train,y_test = train_test_split(X,y,test_size = 0.2,random_state=40)"
   ]
  },
  {
   "cell_type": "code",
   "execution_count": 21,
   "id": "9ae9355e-01b4-41c6-b9cc-e63efce1e063",
   "metadata": {},
   "outputs": [],
   "source": [
    "from sklearn.pipeline import Pipeline\n",
    "from sklearn.svm import SVR\n",
    "from sklearn.linear_model import LinearRegression\n",
    "\n",
    "model = Pipeline([\n",
    "    ('regressor',SVR())\n",
    "])\n",
    "model.fit(X_train,y_train)\n",
    "y_pred = model.predict(X_test)"
   ]
  },
  {
   "cell_type": "code",
   "execution_count": 22,
   "id": "28d33b79-201f-40a5-b181-90d649687902",
   "metadata": {},
   "outputs": [
    {
     "data": {
      "text/plain": [
       "0.8198093501083715"
      ]
     },
     "execution_count": 22,
     "metadata": {},
     "output_type": "execute_result"
    }
   ],
   "source": [
    "from sklearn.metrics import r2_score\n",
    "r2_score(y_true=y_test, y_pred=y_pred)"
   ]
  },
  {
   "cell_type": "markdown",
   "id": "2d57ca63-c77f-4c28-ba5f-b53785d24425",
   "metadata": {},
   "source": [
    "* Since the r2 score of single feature 'TV'.i.e. 0.58  is lower than the multiple feature 'TV and radio' i.e 0.84, which shows greater accuracy for the multiple feature model.Therefore choosing multiple feature model with TV and radio is more favorable for predicting Sales.\n"
   ]
  }
 ],
 "metadata": {
  "kernelspec": {
   "display_name": "Python 3 (ipykernel)",
   "language": "python",
   "name": "python3"
  },
  "language_info": {
   "codemirror_mode": {
    "name": "ipython",
    "version": 3
   },
   "file_extension": ".py",
   "mimetype": "text/x-python",
   "name": "python",
   "nbconvert_exporter": "python",
   "pygments_lexer": "ipython3",
   "version": "3.11.7"
  }
 },
 "nbformat": 4,
 "nbformat_minor": 5
}
